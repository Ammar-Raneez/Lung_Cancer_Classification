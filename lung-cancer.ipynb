{
 "cells": [
  {
   "cell_type": "markdown",
   "id": "2d98fc11",
   "metadata": {},
   "source": [
    "# Predicting the Presence of Lung Cancer"
   ]
  },
  {
   "cell_type": "markdown",
   "id": "85ccfabd",
   "metadata": {},
   "source": [
    "# Problem Definition\n",
    "> How well can we predict whether there is lung cancer\n",
    "\n",
    "We'll try to get an accuracy of over 95%, since this is important"
   ]
  },
  {
   "cell_type": "markdown",
   "id": "816e6a0f",
   "metadata": {},
   "source": [
    "# Data\n",
    "\n",
    "The data is taken from kaggle: https://www.kaggle.com/datasets/mysarahmadbhat/lung-cancer"
   ]
  },
  {
   "cell_type": "code",
   "execution_count": null,
   "id": "87f112d0",
   "metadata": {},
   "outputs": [],
   "source": [
    "import numpy as np\n",
    "import pandas as pd\n",
    "import matplotlib.pyplot as plt\n",
    "import seaborn as sns\n",
    "\n",
    "from sklearn.linear_model import LogisticRegression\n",
    "from sklearn.neighbors import KNeighborsClassifier\n",
    "from sklearn.ensemble import RandomForestClassifier\n",
    "from sklearn.svm import LinearSVC\n",
    "\n",
    "from sklearn.model_selection import train_test_split, GridSearchCV, cross_val_score\n",
    "from sklearn.metrics import RocCurveDisplay, roc_auc_score, roc_curve, ConfusionMatrixDisplay, confusion_matrix, classification_report"
   ]
  },
  {
   "cell_type": "code",
   "execution_count": null,
   "id": "78ed5402",
   "metadata": {},
   "outputs": [],
   "source": []
  }
 ],
 "metadata": {
  "kernelspec": {
   "display_name": "Python 3 (ipykernel)",
   "language": "python",
   "name": "python3"
  },
  "language_info": {
   "codemirror_mode": {
    "name": "ipython",
    "version": 3
   },
   "file_extension": ".py",
   "mimetype": "text/x-python",
   "name": "python",
   "nbconvert_exporter": "python",
   "pygments_lexer": "ipython3",
   "version": "3.7.4"
  }
 },
 "nbformat": 4,
 "nbformat_minor": 5
}
