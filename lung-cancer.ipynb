{
 "cells": [
  {
   "cell_type": "markdown",
   "id": "5d26316b",
   "metadata": {},
   "source": [
    "# Predicting the Presence of Lung Cancer"
   ]
  },
  {
   "cell_type": "markdown",
   "id": "bd67918e",
   "metadata": {},
   "source": [
    "# Problem Definition\n",
    "> How well can we predict whether there is lung cancer\n",
    "\n",
    "We'll try to get an accuracy of over 95%, since this is important"
   ]
  },
  {
   "cell_type": "markdown",
   "id": "8b975668",
   "metadata": {},
   "source": [
    "# Data\n",
    "\n",
    "The data is taken from kaggle: https://www.kaggle.com/datasets/mysarahmadbhat/lung-cancer"
   ]
  },
  {
   "cell_type": "code",
   "execution_count": 11,
   "id": "f098caa2",
   "metadata": {},
   "outputs": [],
   "source": [
    "import numpy as np\n",
    "import pandas as pd\n",
    "import matplotlib.pyplot as plt\n",
    "import seaborn as sns\n",
    "\n",
    "from sklearn.linear_model import LogisticRegression\n",
    "from sklearn.neighbors import KNeighborsClassifier\n",
    "from sklearn.ensemble import RandomForestClassifier\n",
    "from sklearn.svm import LinearSVC\n",
    "from sklearn.utils import resample\n",
    "\n",
    "from sklearn.model_selection import train_test_split, GridSearchCV, cross_val_score\n",
    "from sklearn.metrics import RocCurveDisplay, roc_auc_score, roc_curve, ConfusionMatrixDisplay, confusion_matrix, classification_report"
   ]
  },
  {
   "cell_type": "code",
   "execution_count": 2,
   "id": "56fdb1d5",
   "metadata": {},
   "outputs": [
    {
     "data": {
      "text/html": [
       "<div>\n",
       "<style scoped>\n",
       "    .dataframe tbody tr th:only-of-type {\n",
       "        vertical-align: middle;\n",
       "    }\n",
       "\n",
       "    .dataframe tbody tr th {\n",
       "        vertical-align: top;\n",
       "    }\n",
       "\n",
       "    .dataframe thead th {\n",
       "        text-align: right;\n",
       "    }\n",
       "</style>\n",
       "<table border=\"1\" class=\"dataframe\">\n",
       "  <thead>\n",
       "    <tr style=\"text-align: right;\">\n",
       "      <th></th>\n",
       "      <th>GENDER</th>\n",
       "      <th>AGE</th>\n",
       "      <th>SMOKING</th>\n",
       "      <th>YELLOW_FINGERS</th>\n",
       "      <th>ANXIETY</th>\n",
       "      <th>PEER_PRESSURE</th>\n",
       "      <th>CHRONIC DISEASE</th>\n",
       "      <th>FATIGUE</th>\n",
       "      <th>ALLERGY</th>\n",
       "      <th>WHEEZING</th>\n",
       "      <th>ALCOHOL CONSUMING</th>\n",
       "      <th>COUGHING</th>\n",
       "      <th>SHORTNESS OF BREATH</th>\n",
       "      <th>SWALLOWING DIFFICULTY</th>\n",
       "      <th>CHEST PAIN</th>\n",
       "      <th>LUNG_CANCER</th>\n",
       "    </tr>\n",
       "  </thead>\n",
       "  <tbody>\n",
       "    <tr>\n",
       "      <th>0</th>\n",
       "      <td>M</td>\n",
       "      <td>69</td>\n",
       "      <td>1</td>\n",
       "      <td>2</td>\n",
       "      <td>2</td>\n",
       "      <td>1</td>\n",
       "      <td>1</td>\n",
       "      <td>2</td>\n",
       "      <td>1</td>\n",
       "      <td>2</td>\n",
       "      <td>2</td>\n",
       "      <td>2</td>\n",
       "      <td>2</td>\n",
       "      <td>2</td>\n",
       "      <td>2</td>\n",
       "      <td>YES</td>\n",
       "    </tr>\n",
       "    <tr>\n",
       "      <th>1</th>\n",
       "      <td>M</td>\n",
       "      <td>74</td>\n",
       "      <td>2</td>\n",
       "      <td>1</td>\n",
       "      <td>1</td>\n",
       "      <td>1</td>\n",
       "      <td>2</td>\n",
       "      <td>2</td>\n",
       "      <td>2</td>\n",
       "      <td>1</td>\n",
       "      <td>1</td>\n",
       "      <td>1</td>\n",
       "      <td>2</td>\n",
       "      <td>2</td>\n",
       "      <td>2</td>\n",
       "      <td>YES</td>\n",
       "    </tr>\n",
       "    <tr>\n",
       "      <th>2</th>\n",
       "      <td>F</td>\n",
       "      <td>59</td>\n",
       "      <td>1</td>\n",
       "      <td>1</td>\n",
       "      <td>1</td>\n",
       "      <td>2</td>\n",
       "      <td>1</td>\n",
       "      <td>2</td>\n",
       "      <td>1</td>\n",
       "      <td>2</td>\n",
       "      <td>1</td>\n",
       "      <td>2</td>\n",
       "      <td>2</td>\n",
       "      <td>1</td>\n",
       "      <td>2</td>\n",
       "      <td>NO</td>\n",
       "    </tr>\n",
       "    <tr>\n",
       "      <th>3</th>\n",
       "      <td>M</td>\n",
       "      <td>63</td>\n",
       "      <td>2</td>\n",
       "      <td>2</td>\n",
       "      <td>2</td>\n",
       "      <td>1</td>\n",
       "      <td>1</td>\n",
       "      <td>1</td>\n",
       "      <td>1</td>\n",
       "      <td>1</td>\n",
       "      <td>2</td>\n",
       "      <td>1</td>\n",
       "      <td>1</td>\n",
       "      <td>2</td>\n",
       "      <td>2</td>\n",
       "      <td>NO</td>\n",
       "    </tr>\n",
       "    <tr>\n",
       "      <th>4</th>\n",
       "      <td>F</td>\n",
       "      <td>63</td>\n",
       "      <td>1</td>\n",
       "      <td>2</td>\n",
       "      <td>1</td>\n",
       "      <td>1</td>\n",
       "      <td>1</td>\n",
       "      <td>1</td>\n",
       "      <td>1</td>\n",
       "      <td>2</td>\n",
       "      <td>1</td>\n",
       "      <td>2</td>\n",
       "      <td>2</td>\n",
       "      <td>1</td>\n",
       "      <td>1</td>\n",
       "      <td>NO</td>\n",
       "    </tr>\n",
       "  </tbody>\n",
       "</table>\n",
       "</div>"
      ],
      "text/plain": [
       "  GENDER  AGE  SMOKING  YELLOW_FINGERS  ANXIETY  PEER_PRESSURE  \\\n",
       "0      M   69        1               2        2              1   \n",
       "1      M   74        2               1        1              1   \n",
       "2      F   59        1               1        1              2   \n",
       "3      M   63        2               2        2              1   \n",
       "4      F   63        1               2        1              1   \n",
       "\n",
       "   CHRONIC DISEASE  FATIGUE   ALLERGY   WHEEZING  ALCOHOL CONSUMING  COUGHING  \\\n",
       "0                1         2         1         2                  2         2   \n",
       "1                2         2         2         1                  1         1   \n",
       "2                1         2         1         2                  1         2   \n",
       "3                1         1         1         1                  2         1   \n",
       "4                1         1         1         2                  1         2   \n",
       "\n",
       "   SHORTNESS OF BREATH  SWALLOWING DIFFICULTY  CHEST PAIN LUNG_CANCER  \n",
       "0                    2                      2           2         YES  \n",
       "1                    2                      2           2         YES  \n",
       "2                    2                      1           2          NO  \n",
       "3                    1                      2           2          NO  \n",
       "4                    2                      1           1          NO  "
      ]
     },
     "execution_count": 2,
     "metadata": {},
     "output_type": "execute_result"
    }
   ],
   "source": [
    "lung_data = pd.read_csv('data.csv')\n",
    "lung_data.head()"
   ]
  },
  {
   "cell_type": "code",
   "execution_count": 3,
   "id": "f8237787",
   "metadata": {},
   "outputs": [
    {
     "data": {
      "text/plain": [
       "(309, 16)"
      ]
     },
     "execution_count": 3,
     "metadata": {},
     "output_type": "execute_result"
    }
   ],
   "source": [
    "lung_data.shape"
   ]
  },
  {
   "cell_type": "code",
   "execution_count": 5,
   "id": "bdf98486",
   "metadata": {},
   "outputs": [
    {
     "data": {
      "text/plain": [
       "GENDER                   0\n",
       "AGE                      0\n",
       "SMOKING                  0\n",
       "YELLOW_FINGERS           0\n",
       "ANXIETY                  0\n",
       "PEER_PRESSURE            0\n",
       "CHRONIC DISEASE          0\n",
       "FATIGUE                  0\n",
       "ALLERGY                  0\n",
       "WHEEZING                 0\n",
       "ALCOHOL CONSUMING        0\n",
       "COUGHING                 0\n",
       "SHORTNESS OF BREATH      0\n",
       "SWALLOWING DIFFICULTY    0\n",
       "CHEST PAIN               0\n",
       "LUNG_CANCER              0\n",
       "dtype: int64"
      ]
     },
     "execution_count": 5,
     "metadata": {},
     "output_type": "execute_result"
    }
   ],
   "source": [
    "lung_data.isnull().sum()"
   ]
  },
  {
   "cell_type": "code",
   "execution_count": 10,
   "id": "b2dbff6f",
   "metadata": {},
   "outputs": [
    {
     "data": {
      "image/png": "[encoded data removed]",
      "text/plain": [
       "<Figure size 432x288 with 1 Axes>"
      ]
     },
     "metadata": {
      "needs_background": "light"
     },
     "output_type": "display_data"
    }
   ],
   "source": [
    "# Check for data imbalance\n",
    "lung_data['LUNG_CANCER'].value_counts().plot(kind='bar', color=['salmon', 'lightblue']);"
   ]
  },
  {
   "cell_type": "markdown",
   "id": "c4daf329",
   "metadata": {},
   "source": [
    "Data is quite imbalanced: therefore we will sample the 'NO' diagnosis"
   ]
  },
  {
   "cell_type": "code",
   "execution_count": 16,
   "id": "c0b39b4c",
   "metadata": {},
   "outputs": [
    {
     "data": {
      "text/plain": [
       "270"
      ]
     },
     "execution_count": 16,
     "metadata": {},
     "output_type": "execute_result"
    }
   ],
   "source": [
    "lung_data[lung_data['LUNG_CANCER'] == 'YES'].shape[0]"
   ]
  },
  {
   "cell_type": "code",
   "execution_count": 17,
   "id": "5f5fdb53",
   "metadata": {},
   "outputs": [],
   "source": [
    "# Upsample minority class\n",
    "no_upsampled = resample(\n",
    "    lung_data[lung_data['LUNG_CANCER'] == 'NO'], \n",
    "    replace=True,\n",
    "    n_samples=lung_data[lung_data['LUNG_CANCER'] == 'YES'].shape[0],\n",
    "    random_state=123\n",
    ")"
   ]
  },
  {
   "cell_type": "code",
   "execution_count": 19,
   "id": "f9400209",
   "metadata": {},
   "outputs": [
    {
     "data": {
      "text/plain": [
       "(270, 16)"
      ]
     },
     "execution_count": 19,
     "metadata": {},
     "output_type": "execute_result"
    }
   ],
   "source": [
    "no_upsampled.shape"
   ]
  },
  {
   "cell_type": "code",
   "execution_count": 20,
   "id": "79956edd",
   "metadata": {},
   "outputs": [],
   "source": [
    "# Create balanced dataset\n",
    "lung_data_sampled = pd.concat([lung_data[lung_data['LUNG_CANCER'] == 'YES'], no_upsampled])"
   ]
  },
  {
   "cell_type": "code",
   "execution_count": 21,
   "id": "10e6ad47",
   "metadata": {},
   "outputs": [
    {
     "data": {
      "text/plain": [
       "(540, 16)"
      ]
     },
     "execution_count": 21,
     "metadata": {},
     "output_type": "execute_result"
    }
   ],
   "source": [
    "lung_data_sampled.shape"
   ]
  },
  {
   "cell_type": "code",
   "execution_count": 23,
   "id": "9c6438d0",
   "metadata": {},
   "outputs": [
    {
     "data": {
      "image/png": "[encoded data removed]",
      "text/plain": [
       "<Figure size 432x288 with 1 Axes>"
      ]
     },
     "metadata": {
      "needs_background": "light"
     },
     "output_type": "display_data"
    }
   ],
   "source": [
    "# Check for data imbalance\n",
    "lung_data_sampled['LUNG_CANCER'].value_counts().plot(kind='bar', color=['salmon', 'lightblue']);"
   ]
  },
  {
   "cell_type": "code",
   "execution_count": 25,
   "id": "afa38a7c",
   "metadata": {},
   "outputs": [
    {
     "data": {
      "image/png": "[encoded data removed]",
      "text/plain": [
       "<Figure size 1800x1440 with 2 Axes>"
      ]
     },
     "metadata": {
      "needs_background": "light"
     },
     "output_type": "display_data"
    }
   ],
   "source": [
    "# Plot correlation matrix\n",
    "corr_matrix = lung_data_sampled.corr()\n",
    "fig, ax = plt.subplots(figsize=(25, 20))\n",
    "ax = sns.heatmap(\n",
    "    corr_matrix,\n",
    "    annot=True,\n",
    "    linewidths=0.5,\n",
    "    fmt=\".2f\",\n",
    "    cmap=\"YlGnBu\"\n",
    ");"
   ]
  },
  {
   "cell_type": "markdown",
   "id": "7752f16e",
   "metadata": {},
   "source": [
    "No highly correlated features"
   ]
  },
  {
   "cell_type": "code",
   "execution_count": 26,
   "id": "d8cc7c6e",
   "metadata": {},
   "outputs": [
    {
     "name": "stdout",
     "output_type": "stream",
     "text": [
      "<class 'pandas.core.frame.DataFrame'>\n",
      "Int64Index: 540 entries, 0 to 80\n",
      "Data columns (total 16 columns):\n",
      " #   Column                 Non-Null Count  Dtype \n",
      "---  ------                 --------------  ----- \n",
      " 0   GENDER                 540 non-null    object\n",
      " 1   AGE                    540 non-null    int64 \n",
      " 2   SMOKING                540 non-null    int64 \n",
      " 3   YELLOW_FINGERS         540 non-null    int64 \n",
      " 4   ANXIETY                540 non-null    int64 \n",
      " 5   PEER_PRESSURE          540 non-null    int64 \n",
      " 6   CHRONIC DISEASE        540 non-null    int64 \n",
      " 7   FATIGUE                540 non-null    int64 \n",
      " 8   ALLERGY                540 non-null    int64 \n",
      " 9   WHEEZING               540 non-null    int64 \n",
      " 10  ALCOHOL CONSUMING      540 non-null    int64 \n",
      " 11  COUGHING               540 non-null    int64 \n",
      " 12  SHORTNESS OF BREATH    540 non-null    int64 \n",
      " 13  SWALLOWING DIFFICULTY  540 non-null    int64 \n",
      " 14  CHEST PAIN             540 non-null    int64 \n",
      " 15  LUNG_CANCER            540 non-null    object\n",
      "dtypes: int64(14), object(2)\n",
      "memory usage: 71.7+ KB\n"
     ]
    }
   ],
   "source": [
    "lung_data_sampled.info()"
   ]
  },
  {
   "cell_type": "code",
   "execution_count": 42,
   "id": "0dd14145",
   "metadata": {},
   "outputs": [],
   "source": [
    "# Convert gender and lung_cancer to categories\n",
    "lung_data_sampled['GENDER'].replace('F', 0, inplace=True)\n",
    "lung_data_sampled['GENDER'].replace('M', 1, inplace=True)\n",
    "lung_data_sampled['LUNG_CANCER'] = lung_data_sampled['LUNG_CANCER'].astype('category')"
   ]
  },
  {
   "cell_type": "code",
   "execution_count": 43,
   "id": "a8408e92",
   "metadata": {},
   "outputs": [
    {
     "name": "stdout",
     "output_type": "stream",
     "text": [
      "<class 'pandas.core.frame.DataFrame'>\n",
      "Int64Index: 540 entries, 0 to 80\n",
      "Data columns (total 16 columns):\n",
      " #   Column                 Non-Null Count  Dtype   \n",
      "---  ------                 --------------  -----   \n",
      " 0   GENDER                 540 non-null    category\n",
      " 1   AGE                    540 non-null    int64   \n",
      " 2   SMOKING                540 non-null    int64   \n",
      " 3   YELLOW_FINGERS         540 non-null    int64   \n",
      " 4   ANXIETY                540 non-null    int64   \n",
      " 5   PEER_PRESSURE          540 non-null    int64   \n",
      " 6   CHRONIC DISEASE        540 non-null    int64   \n",
      " 7   FATIGUE                540 non-null    int64   \n",
      " 8   ALLERGY                540 non-null    int64   \n",
      " 9   WHEEZING               540 non-null    int64   \n",
      " 10  ALCOHOL CONSUMING      540 non-null    int64   \n",
      " 11  COUGHING               540 non-null    int64   \n",
      " 12  SHORTNESS OF BREATH    540 non-null    int64   \n",
      " 13  SWALLOWING DIFFICULTY  540 non-null    int64   \n",
      " 14  CHEST PAIN             540 non-null    int64   \n",
      " 15  LUNG_CANCER            540 non-null    category\n",
      "dtypes: category(2), int64(14)\n",
      "memory usage: 64.6 KB\n"
     ]
    }
   ],
   "source": [
    "lung_data_sampled.info()"
   ]
  },
  {
   "cell_type": "code",
   "execution_count": 44,
   "id": "1f6abb7b",
   "metadata": {},
   "outputs": [
    {
     "data": {
      "text/html": [
       "<div>\n",
       "<style scoped>\n",
       "    .dataframe tbody tr th:only-of-type {\n",
       "        vertical-align: middle;\n",
       "    }\n",
       "\n",
       "    .dataframe tbody tr th {\n",
       "        vertical-align: top;\n",
       "    }\n",
       "\n",
       "    .dataframe thead th {\n",
       "        text-align: right;\n",
       "    }\n",
       "</style>\n",
       "<table border=\"1\" class=\"dataframe\">\n",
       "  <thead>\n",
       "    <tr style=\"text-align: right;\">\n",
       "      <th></th>\n",
       "      <th>GENDER</th>\n",
       "      <th>AGE</th>\n",
       "      <th>SMOKING</th>\n",
       "      <th>YELLOW_FINGERS</th>\n",
       "      <th>ANXIETY</th>\n",
       "      <th>PEER_PRESSURE</th>\n",
       "      <th>CHRONIC DISEASE</th>\n",
       "      <th>FATIGUE</th>\n",
       "      <th>ALLERGY</th>\n",
       "      <th>WHEEZING</th>\n",
       "      <th>ALCOHOL CONSUMING</th>\n",
       "      <th>COUGHING</th>\n",
       "      <th>SHORTNESS OF BREATH</th>\n",
       "      <th>SWALLOWING DIFFICULTY</th>\n",
       "      <th>CHEST PAIN</th>\n",
       "      <th>LUNG_CANCER</th>\n",
       "    </tr>\n",
       "  </thead>\n",
       "  <tbody>\n",
       "    <tr>\n",
       "      <th>0</th>\n",
       "      <td>1</td>\n",
       "      <td>69</td>\n",
       "      <td>1</td>\n",
       "      <td>2</td>\n",
       "      <td>2</td>\n",
       "      <td>1</td>\n",
       "      <td>1</td>\n",
       "      <td>2</td>\n",
       "      <td>1</td>\n",
       "      <td>2</td>\n",
       "      <td>2</td>\n",
       "      <td>2</td>\n",
       "      <td>2</td>\n",
       "      <td>2</td>\n",
       "      <td>2</td>\n",
       "      <td>YES</td>\n",
       "    </tr>\n",
       "    <tr>\n",
       "      <th>1</th>\n",
       "      <td>1</td>\n",
       "      <td>74</td>\n",
       "      <td>2</td>\n",
       "      <td>1</td>\n",
       "      <td>1</td>\n",
       "      <td>1</td>\n",
       "      <td>2</td>\n",
       "      <td>2</td>\n",
       "      <td>2</td>\n",
       "      <td>1</td>\n",
       "      <td>1</td>\n",
       "      <td>1</td>\n",
       "      <td>2</td>\n",
       "      <td>2</td>\n",
       "      <td>2</td>\n",
       "      <td>YES</td>\n",
       "    </tr>\n",
       "    <tr>\n",
       "      <th>5</th>\n",
       "      <td>0</td>\n",
       "      <td>75</td>\n",
       "      <td>1</td>\n",
       "      <td>2</td>\n",
       "      <td>1</td>\n",
       "      <td>1</td>\n",
       "      <td>2</td>\n",
       "      <td>2</td>\n",
       "      <td>2</td>\n",
       "      <td>2</td>\n",
       "      <td>1</td>\n",
       "      <td>2</td>\n",
       "      <td>2</td>\n",
       "      <td>1</td>\n",
       "      <td>1</td>\n",
       "      <td>YES</td>\n",
       "    </tr>\n",
       "    <tr>\n",
       "      <th>6</th>\n",
       "      <td>1</td>\n",
       "      <td>52</td>\n",
       "      <td>2</td>\n",
       "      <td>1</td>\n",
       "      <td>1</td>\n",
       "      <td>1</td>\n",
       "      <td>1</td>\n",
       "      <td>2</td>\n",
       "      <td>1</td>\n",
       "      <td>2</td>\n",
       "      <td>2</td>\n",
       "      <td>2</td>\n",
       "      <td>2</td>\n",
       "      <td>1</td>\n",
       "      <td>2</td>\n",
       "      <td>YES</td>\n",
       "    </tr>\n",
       "    <tr>\n",
       "      <th>7</th>\n",
       "      <td>0</td>\n",
       "      <td>51</td>\n",
       "      <td>2</td>\n",
       "      <td>2</td>\n",
       "      <td>2</td>\n",
       "      <td>2</td>\n",
       "      <td>1</td>\n",
       "      <td>2</td>\n",
       "      <td>2</td>\n",
       "      <td>1</td>\n",
       "      <td>1</td>\n",
       "      <td>1</td>\n",
       "      <td>2</td>\n",
       "      <td>2</td>\n",
       "      <td>1</td>\n",
       "      <td>YES</td>\n",
       "    </tr>\n",
       "  </tbody>\n",
       "</table>\n",
       "</div>"
      ],
      "text/plain": [
       "  GENDER  AGE  SMOKING  YELLOW_FINGERS  ANXIETY  PEER_PRESSURE  \\\n",
       "0      1   69        1               2        2              1   \n",
       "1      1   74        2               1        1              1   \n",
       "5      0   75        1               2        1              1   \n",
       "6      1   52        2               1        1              1   \n",
       "7      0   51        2               2        2              2   \n",
       "\n",
       "   CHRONIC DISEASE  FATIGUE   ALLERGY   WHEEZING  ALCOHOL CONSUMING  COUGHING  \\\n",
       "0                1         2         1         2                  2         2   \n",
       "1                2         2         2         1                  1         1   \n",
       "5                2         2         2         2                  1         2   \n",
       "6                1         2         1         2                  2         2   \n",
       "7                1         2         2         1                  1         1   \n",
       "\n",
       "   SHORTNESS OF BREATH  SWALLOWING DIFFICULTY  CHEST PAIN LUNG_CANCER  \n",
       "0                    2                      2           2         YES  \n",
       "1                    2                      2           2         YES  \n",
       "5                    2                      1           1         YES  \n",
       "6                    2                      1           2         YES  \n",
       "7                    2                      2           1         YES  "
      ]
     },
     "execution_count": 44,
     "metadata": {},
     "output_type": "execute_result"
    }
   ],
   "source": [
    "lung_data_sampled.head()"
   ]
  },
  {
   "cell_type": "markdown",
   "id": "2f6b4698",
   "metadata": {},
   "source": [
    "# Modelling"
   ]
  },
  {
   "cell_type": "code",
   "execution_count": 46,
   "id": "ecea0161",
   "metadata": {},
   "outputs": [
    {
     "data": {
      "text/plain": [
       "((540, 15), (540,))"
      ]
     },
     "execution_count": 46,
     "metadata": {},
     "output_type": "execute_result"
    }
   ],
   "source": [
    "X = lung_data_sampled.drop('LUNG_CANCER', axis=1)\n",
    "y = lung_data_sampled['LUNG_CANCER']\n",
    "\n",
    "X.shape, y.shape"
   ]
  },
  {
   "cell_type": "code",
   "execution_count": 47,
   "id": "58a0e06a",
   "metadata": {},
   "outputs": [
    {
     "data": {
      "text/plain": [
       "((432, 15), (108, 15), (432,), (108,))"
      ]
     },
     "execution_count": 47,
     "metadata": {},
     "output_type": "execute_result"
    }
   ],
   "source": [
    "X_train, X_test, y_train, y_test = train_test_split(X, y, test_size=0.2)\n",
    "\n",
    "X_train.shape, X_test.shape, y_train.shape, y_test.shape"
   ]
  },
  {
   "cell_type": "code",
   "execution_count": 52,
   "id": "b1ebc9fe",
   "metadata": {},
   "outputs": [],
   "source": [
    "models = {\n",
    "    'Logistic Regression': LogisticRegression(max_iter=1000),\n",
    "    'KNN': KNeighborsClassifier(),\n",
    "    'Random Forest': RandomForestClassifier(),\n",
    "    'SVM': LinearSVC(max_iter=1000000)\n",
    "}\n",
    "\n",
    "def fit_and_score(models, X_train, X_test, y_train, y_test):\n",
    "    np.random.seed(42)\n",
    "    model_scores = {}\n",
    "    for name, model in models.items():\n",
    "        model.fit(X_train, y_train)\n",
    "        model_scores[name] = model.score(X_test, y_test)\n",
    "    return model_scores"
   ]
  },
  {
   "cell_type": "code",
   "execution_count": 53,
   "id": "3e9a4788",
   "metadata": {},
   "outputs": [
    {
     "data": {
      "text/plain": [
       "{'Logistic Regression': 0.9074074074074074,\n",
       " 'KNN': 0.9259259259259259,\n",
       " 'Random Forest': 1.0,\n",
       " 'SVM': 0.9166666666666666}"
      ]
     },
     "execution_count": 53,
     "metadata": {},
     "output_type": "execute_result"
    }
   ],
   "source": [
    "fit_and_score(\n",
    "    models,\n",
    "    X_train,\n",
    "    X_test,\n",
    "    y_train,\n",
    "    y_test\n",
    ")"
   ]
  },
  {
   "cell_type": "markdown",
   "id": "96909d14",
   "metadata": {},
   "source": [
    "Random Forest has the best score"
   ]
  },
  {
   "cell_type": "code",
   "execution_count": 54,
   "id": "0d90573b",
   "metadata": {},
   "outputs": [],
   "source": [
    "# Tune hyperparameters\n",
    "\n",
    "rf_grid = {\n",
    "    'n_estimators': np.arange(10, 20, 10),\n",
    "    'max_depth': [None, 3, 5],\n",
    "    'min_samples_split': np.arange(10, 50, 10),\n",
    "    'min_samples_leaf': np.arange(10, 50, 10)\n",
    "}"
   ]
  },
  {
   "cell_type": "code",
   "execution_count": 56,
   "id": "4317f8b1",
   "metadata": {},
   "outputs": [
    {
     "data": {
      "text/plain": [
       "(0.8703703703703703,\n",
       " {'max_depth': 3,\n",
       "  'min_samples_leaf': 10,\n",
       "  'min_samples_split': 20,\n",
       "  'n_estimators': 10})"
      ]
     },
     "execution_count": 56,
     "metadata": {},
     "output_type": "execute_result"
    }
   ],
   "source": [
    "# tune Random Forest\n",
    "np.random.seed(42)\n",
    "\n",
    "rf_gs = GridSearchCV(\n",
    "    RandomForestClassifier(),\n",
    "    rf_grid\n",
    ")\n",
    "\n",
    "rf_gs.fit(X_train, y_train)\n",
    "rf_gs.score(X_test, y_test), rf_gs.best_params_"
   ]
  },
  {
   "cell_type": "markdown",
   "id": "b9697419",
   "metadata": {},
   "source": [
    "# Evaluation"
   ]
  },
  {
   "cell_type": "code",
   "execution_count": 57,
   "id": "3539cf77",
   "metadata": {},
   "outputs": [],
   "source": [
    "y_preds = rf_gs.predict(X_test)\n",
    "y_preds_proba = rf_gs.predict_proba(X_test)"
   ]
  },
  {
   "cell_type": "code",
   "execution_count": 58,
   "id": "ce87fc2f",
   "metadata": {},
   "outputs": [
    {
     "data": {
      "image/png": "[encoded data removed]",
      "text/plain": [
       "<Figure size 432x288 with 1 Axes>"
      ]
     },
     "metadata": {
      "needs_background": "light"
     },
     "output_type": "display_data"
    }
   ],
   "source": [
    "# Plot ROC curve and calculate and calculate AUC metric\n",
    "fpr, tpr, thresholds = roc_curve(y_test, y_preds_proba[:,1], pos_label='YES')\n",
    "auc_score = roc_auc_score(y_test, y_preds_proba[:,1])\n",
    "plot_roc = RocCurveDisplay(fpr=fpr, tpr=tpr, roc_auc=auc_score)\n",
    "plot_roc.plot();"
   ]
  },
  {
   "cell_type": "code",
   "execution_count": 59,
   "id": "56478a94",
   "metadata": {},
   "outputs": [
    {
     "data": {
      "image/png": "[encoded data removed]",
      "text/plain": [
       "<Figure size 432x288 with 2 Axes>"
      ]
     },
     "metadata": {
      "needs_background": "light"
     },
     "output_type": "display_data"
    }
   ],
   "source": [
    "# Plot confusion matrix\n",
    "confusion_matrix = confusion_matrix(y_test, y_preds)\n",
    "plot_cm = ConfusionMatrixDisplay(confusion_matrix)\n",
    "plot_cm.plot();"
   ]
  },
  {
   "cell_type": "code",
   "execution_count": 60,
   "id": "47fbb8d8",
   "metadata": {},
   "outputs": [
    {
     "name": "stdout",
     "output_type": "stream",
     "text": [
      "              precision    recall  f1-score   support\n",
      "\n",
      "          NO       0.84      0.88      0.86        49\n",
      "         YES       0.89      0.86      0.88        59\n",
      "\n",
      "    accuracy                           0.87       108\n",
      "   macro avg       0.87      0.87      0.87       108\n",
      "weighted avg       0.87      0.87      0.87       108\n",
      "\n"
     ]
    }
   ],
   "source": [
    "# Produce classification report\n",
    "print(classification_report(y_test, y_preds))"
   ]
  },
  {
   "cell_type": "markdown",
   "id": "22ca9dbc",
   "metadata": {},
   "source": [
    "# Cross-Validation Evaluation"
   ]
  },
  {
   "cell_type": "code",
   "execution_count": 61,
   "id": "f755696b",
   "metadata": {},
   "outputs": [
    {
     "data": {
      "text/plain": [
       "0.8925925925925926"
      ]
     },
     "execution_count": 61,
     "metadata": {},
     "output_type": "execute_result"
    }
   ],
   "source": [
    "cross_rf = RandomForestClassifier(\n",
    "    n_estimators=10,\n",
    "    max_depth=3,\n",
    "    min_samples_leaf=10,\n",
    "    min_samples_split=20\n",
    ")\n",
    "\n",
    "cross_score = cross_val_score(\n",
    "    estimator=cross_rf,\n",
    "    X=X,\n",
    "    y=y,\n",
    "    cv=5,\n",
    "    scoring='accuracy'\n",
    ")\n",
    "\n",
    "np.mean(cross_score)"
   ]
  },
  {
   "cell_type": "code",
   "execution_count": 62,
   "id": "db6a3dbb",
   "metadata": {},
   "outputs": [],
   "source": [
    "pos_neg_labels = list(map(lambda x: 1 if x == 'YES' else 0, y))"
   ]
  },
  {
   "cell_type": "code",
   "execution_count": 63,
   "id": "95d4388a",
   "metadata": {},
   "outputs": [
    {
     "data": {
      "text/plain": [
       "0.9014048717240207"
      ]
     },
     "execution_count": 63,
     "metadata": {},
     "output_type": "execute_result"
    }
   ],
   "source": [
    "cross_precision = cross_val_score(\n",
    "    estimator=cross_rf,\n",
    "    X=X,\n",
    "    y=pos_neg_labels,\n",
    "    cv=5,\n",
    "    scoring='precision'\n",
    ")\n",
    "\n",
    "np.mean(cross_precision)"
   ]
  },
  {
   "cell_type": "code",
   "execution_count": 64,
   "id": "71a893cc",
   "metadata": {},
   "outputs": [
    {
     "data": {
      "text/plain": [
       "0.874074074074074"
      ]
     },
     "execution_count": 64,
     "metadata": {},
     "output_type": "execute_result"
    }
   ],
   "source": [
    "cross_recall = cross_val_score(\n",
    "    estimator=cross_rf,\n",
    "    X=X,\n",
    "    y=pos_neg_labels,\n",
    "    cv=5,\n",
    "    scoring='recall'\n",
    ")\n",
    "\n",
    "np.mean(cross_recall)"
   ]
  },
  {
   "cell_type": "code",
   "execution_count": 65,
   "id": "43de4418",
   "metadata": {},
   "outputs": [
    {
     "data": {
      "text/plain": [
       "0.88060726671201"
      ]
     },
     "execution_count": 65,
     "metadata": {},
     "output_type": "execute_result"
    }
   ],
   "source": [
    "cross_f1 = cross_val_score(\n",
    "    estimator=cross_rf,\n",
    "    X=X,\n",
    "    y=pos_neg_labels,\n",
    "    cv=5,\n",
    "    scoring='f1'\n",
    ")\n",
    "\n",
    "np.mean(cross_f1)"
   ]
  }
 ],
 "metadata": {
  "kernelspec": {
   "display_name": "Python 3 (ipykernel)",
   "language": "python",
   "name": "python3"
  },
  "language_info": {
   "codemirror_mode": {
    "name": "ipython",
    "version": 3
   },
   "file_extension": ".py",
   "mimetype": "text/x-python",
   "name": "python",
   "nbconvert_exporter": "python",
   "pygments_lexer": "ipython3",
   "version": "3.7.4"
  }
 },
 "nbformat": 4,
 "nbformat_minor": 5
}
